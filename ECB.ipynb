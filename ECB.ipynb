{
 "cells": [
  {
   "cell_type": "code",
   "execution_count": 1,
   "id": "turkish-behalf",
   "metadata": {},
   "outputs": [],
   "source": [
    "from Crypto.Cipher import AES\n",
    "from Crypto.Random import get_random_bytes\n",
    "from Crypto.Util.Padding import pad, unpad\n",
    "import secrets"
   ]
  },
  {
   "cell_type": "code",
   "execution_count": 2,
   "id": "basic-colombia",
   "metadata": {},
   "outputs": [],
   "source": [
    "def new_key(byteLength=16):\n",
    "    key = get_random_bytes(byteLength)\n",
    "    return key"
   ]
  },
  {
   "cell_type": "code",
   "execution_count": 3,
   "id": "wireless-equipment",
   "metadata": {},
   "outputs": [],
   "source": [
    "def new_flag(byte_length=16):\n",
    "    with open('/usr/share/dict/words') as w:\n",
    "\t\t\n",
    "        numWords = 8\n",
    "        words = [word.strip() for word in w]\n",
    "\n",
    "        flag = ' '.join(secrets.choice(words) for i in range(numWords))\n",
    "    return flag[0:byte_length]"
   ]
  },
  {
   "cell_type": "code",
   "execution_count": 4,
   "id": "comparable-breeding",
   "metadata": {},
   "outputs": [],
   "source": [
    "k = new_key()\n",
    "secret = new_flag()\n",
    "cipher = AES.new(k, AES.MODE_ECB)\n",
    "padding_style = 'pkcs7' # iso7816 # x923\n",
    "block_size = 16\n",
    "\n",
    "def decrypt(ciphertext):\n",
    "    c = unpad(ciphertext, padding_style)\n",
    "    return cipher.decrypt(c)\n",
    "\n",
    "def oracle(chosen_plaintext, display = False, see_oracle = False, timing = False):\n",
    "    plaintext = chosen_plaintext + secret\n",
    "    p = pad(bytes(plaintext, 'utf-8'), block_size, padding_style)\n",
    "    ciphertext = cipher.encrypt(p)\n",
    "    return ciphertext"
   ]
  },
  {
   "cell_type": "code",
   "execution_count": null,
   "id": "considered-arctic",
   "metadata": {},
   "outputs": [],
   "source": [
    "cp = 'A'*15\n",
    "o = oracle(cp)\n",
    "print(o.hex())\n",
    "target = o.hex()\n",
    "ch = chr(0)\n",
    "print(ch)\n",
    "print(bytes(ch,'utf-8'))\n",
    "print(b'AB'++bytes(ch,'utf-8'))\n",
    "max_tries = 256\n",
    "t = 0\n",
    "#while t<max_tries:\n",
    "    \n",
    " #   o_t = oracle\n",
    "\n",
    "print(cipher.decrypt(o))\n"
   ]
  },
  {
   "cell_type": "code",
   "execution_count": null,
   "id": "artistic-privilege",
   "metadata": {},
   "outputs": [],
   "source": []
  }
 ],
 "metadata": {
  "kernelspec": {
   "display_name": "Python 3",
   "language": "python",
   "name": "python3"
  },
  "language_info": {
   "codemirror_mode": {
    "name": "ipython",
    "version": 3
   },
   "file_extension": ".py",
   "mimetype": "text/x-python",
   "name": "python",
   "nbconvert_exporter": "python",
   "pygments_lexer": "ipython3",
   "version": "3.8.5"
  }
 },
 "nbformat": 4,
 "nbformat_minor": 5
}
