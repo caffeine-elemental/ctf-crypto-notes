{
 "cells": [
  {
   "cell_type": "code",
   "execution_count": 2,
   "id": "turkish-behalf",
   "metadata": {},
   "outputs": [],
   "source": [
    "from Crypto.Cipher import AES\n",
    "from Crypto.Random import get_random_bytes\n",
    "from Crypto.Util.Padding import pad, unpad\n",
    "import secrets"
   ]
  },
  {
   "cell_type": "code",
   "execution_count": 3,
   "id": "basic-colombia",
   "metadata": {},
   "outputs": [],
   "source": [
    "def new_key(byteLength=16):\n",
    "    key = get_random_bytes(byteLength)\n",
    "    return key"
   ]
  },
  {
   "cell_type": "code",
   "execution_count": 4,
   "id": "wireless-equipment",
   "metadata": {},
   "outputs": [],
   "source": [
    "def new_flag(byte_length=16):\n",
    "    with open('/usr/share/dict/words') as w:\n",
    "\t\t\n",
    "        numWords = 8\n",
    "        words = [word.strip() for word in w]\n",
    "\n",
    "        flag = ' '.join(secrets.choice(words) for i in range(numWords))\n",
    "    return flag[0:byte_length]"
   ]
  },
  {
   "cell_type": "code",
   "execution_count": 5,
   "id": "comparable-breeding",
   "metadata": {},
   "outputs": [],
   "source": [
    "k = new_key()\n",
    "secret = new_flag()\n",
    "cipher = AES.new(k, AES.MODE_ECB)\n",
    "padding_style = 'pkcs7' # iso7816 # x923\n",
    "block_size = 16"
   ]
  },
  {
   "cell_type": "code",
   "execution_count": 31,
   "id": "f7184caa",
   "metadata": {},
   "outputs": [],
   "source": [
    "def decrypt(ciphertext):\n",
    "    c = unpad(ciphertext, padding_style)\n",
    "    return cipher.decrypt(c)\n",
    "\n",
    "def oracle(chosen_plaintext):\n",
    "    plaintext = chosen_plaintext + secret\n",
    "    plaintext_bytes = bytes(plaintext, 'utf-8')\n",
    "    plaintext_padded_bytes = pad(plaintext_bytes, block_size, padding_style)\n",
    "    ciphertext = cipher.encrypt(plaintext_padded_bytes)\n",
    "    return ciphertext"
   ]
  },
  {
   "cell_type": "markdown",
   "id": "4b3f2dd7",
   "metadata": {},
   "source": [
    "First, let's try guessing just one byte of the secret."
   ]
  },
  {
   "cell_type": "code",
   "execution_count": 83,
   "id": "a8eb5105",
   "metadata": {},
   "outputs": [
    {
     "name": "stdout",
     "output_type": "stream",
     "text": [
      "response length (bytes): 32.0\n"
     ]
    }
   ],
   "source": [
    "# we can check block_size by changing the length of the stencil\n",
    "stencil = 'A'*15\n",
    "oracle_reference = oracle(stencil)\n",
    "print(f'response length (bytes): {len(oracle_reference.hex())/2}')"
   ]
  },
  {
   "cell_type": "code",
   "execution_count": 91,
   "id": "fb9a66a5",
   "metadata": {},
   "outputs": [
    {
     "name": "stdout",
     "output_type": "stream",
     "text": [
      "\u0000\n",
      "b'\\x00'\n",
      "b'AB\\x00'\n",
      "102\n",
      "secret revealed: f\n"
     ]
    }
   ],
   "source": [
    "# we only want the first byte\n",
    "stencil = 'A'*15\n",
    "oracle_reference = oracle(stencil)[0:block_size]\n",
    "\n",
    "secret_revealed = ''\n",
    "\n",
    "for i in range(256):\n",
    "\n",
    "    guess = stencil+chr(i)\n",
    "    oracle_guess = oracle(guess)[0:block_size]\n",
    "    \n",
    "    if oracle_guess == oracle_reference:\n",
    "        print(i)\n",
    "        secret_revealed += chr(i)\n",
    "        break\n",
    "\n",
    "print(f'secret revealed: {secret_revealed}')"
   ]
  },
  {
   "cell_type": "markdown",
   "id": "bac68c53",
   "metadata": {},
   "source": []
  },
  {
   "cell_type": "code",
   "execution_count": 89,
   "id": "dfcc9e76",
   "metadata": {},
   "outputs": [],
   "source": [
    "def reveal_one_byte(stencil, secret_revealed, oracle_reference):\n",
    "    \n",
    "    for i in range(256):\n",
    "        guess = stencil+secret_revealed+chr(i)\n",
    "        #print(f'stencil: {stencil}')\n",
    "        #print(f'guess: {guess}')\n",
    "        oracle_guess = oracle(guess)[0:block_size]\n",
    "\n",
    "        if oracle_guess == oracle_reference:\n",
    "            secret_byte_revealed = chr(i)\n",
    "            break\n",
    "        \n",
    "    return(secret_byte_revealed, i)"
   ]
  },
  {
   "cell_type": "code",
   "execution_count": 90,
   "id": "considered-arctic",
   "metadata": {},
   "outputs": [
    {
     "name": "stdout",
     "output_type": "stream",
     "text": [
      "secret revealed: freckling allspi\n"
     ]
    }
   ],
   "source": [
    "secret_revealed = ''\n",
    "number_of_tries = []\n",
    "\n",
    "for j in range(block_size):\n",
    "    \n",
    "    stencil = 'A'*(15-j)\n",
    "    \n",
    "    oracle_reference = oracle(stencil)[0:block_size]\n",
    "    secret_byte, effort = reveal_one_byte(stencil, secret_revealed, oracle_reference)\n",
    "    number_of_tries.append(effort)\n",
    "    secret_revealed += secret_byte\n",
    "    \n",
    "    \n",
    "print(f'''secret revealed: {secret_revealed}''')\n",
    "#print(cipher.decrypt(o))\n"
   ]
  },
  {
   "cell_type": "code",
   "execution_count": 85,
   "id": "artistic-privilege",
   "metadata": {},
   "outputs": [
    {
     "name": "stdout",
     "output_type": "stream",
     "text": [
      "freckling allspi\n"
     ]
    }
   ],
   "source": [
    "# finally, double-check our answer is correct:\n",
    "print(secret)"
   ]
  },
  {
   "cell_type": "code",
   "execution_count": null,
   "id": "0b46f993",
   "metadata": {},
   "outputs": [],
   "source": []
  }
 ],
 "metadata": {
  "kernelspec": {
   "display_name": "Python 3",
   "language": "python",
   "name": "python3"
  },
  "language_info": {
   "codemirror_mode": {
    "name": "ipython",
    "version": 3
   },
   "file_extension": ".py",
   "mimetype": "text/x-python",
   "name": "python",
   "nbconvert_exporter": "python",
   "pygments_lexer": "ipython3",
   "version": "3.8.5"
  }
 },
 "nbformat": 4,
 "nbformat_minor": 5
}
