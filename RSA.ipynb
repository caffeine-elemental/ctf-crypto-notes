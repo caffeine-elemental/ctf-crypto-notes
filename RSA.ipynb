{
 "cells": [
  {
   "cell_type": "markdown",
   "id": "ancient-strength",
   "metadata": {},
   "source": [
    "# RSA cryptosystem\n",
    "Intuition: it is feasible to find integers $d, e, n$ such that\n",
    "$$ (m^e)^d\\equiv m \\pmod{n}$$\n",
    "for integers $m<n$, such that it is infeasible to find $d$ given $e$, $n$, and/or $m$, and that\n",
    "$$ (m^d)^e\\equiv m \\pmod{n}.$$\n"
   ]
  },
  {
   "cell_type": "code",
   "execution_count": 1,
   "id": "developmental-influence",
   "metadata": {},
   "outputs": [],
   "source": [
    "from Crypto.Util.number import getPrime, inverse, size\n",
    "import secrets\n",
    "import math"
   ]
  },
  {
   "cell_type": "code",
   "execution_count": 2,
   "id": "typical-basket",
   "metadata": {},
   "outputs": [],
   "source": [
    "def new_key(key_bits:int, e:int = 65537):\n",
    "    p = getPrime(key_bits//2)\n",
    "    q = getPrime(key_bits//2)\n",
    "\n",
    "    # public key:\n",
    "    n = p*q    \n",
    "    \n",
    "    # totient function\n",
    "    phi = (p-1)*(q-1)\n",
    "    # private key:\n",
    "    d = inverse(e, phi)\n",
    "    \n",
    "    return(e, n, d)"
   ]
  },
  {
   "cell_type": "code",
   "execution_count": 3,
   "id": "stunning-communication",
   "metadata": {},
   "outputs": [],
   "source": [
    "def encrypt(plaintext:int, exponent:int, public_key:int) -> int:\n",
    "\n",
    "    ciphertext = pow(plaintext, exponent, public_key)\n",
    "    \n",
    "    return ciphertext"
   ]
  },
  {
   "cell_type": "code",
   "execution_count": 4,
   "id": "scenic-projector",
   "metadata": {},
   "outputs": [],
   "source": [
    "def decrypt(ciphertext:int, private_key:int, public_key:int) -> int:\n",
    "\n",
    "    plaintext = pow(ciphertext, private_key, public_key)\n",
    "    \n",
    "    return plaintext"
   ]
  },
  {
   "cell_type": "code",
   "execution_count": 5,
   "id": "joint-filter",
   "metadata": {},
   "outputs": [],
   "source": [
    "def new_flag(flag_bytes:int):\n",
    "    with open('/usr/share/dict/words') as w:\n",
    "\t\t\n",
    "        numWords = flag_bytes\n",
    "        words = [word.strip() for word in w]\n",
    "\n",
    "        flag = ' '.join(secrets.choice(words) for i in range(numWords))\n",
    "    return flag[0:flag_bytes]"
   ]
  },
  {
   "cell_type": "code",
   "execution_count": 6,
   "id": "rolled-repository",
   "metadata": {},
   "outputs": [],
   "source": [
    "key_bits = 256\n",
    "(e,n,d) = new_key(key_bits)\n",
    "flag_bytes = 30\n",
    "flag = new_flag(flag_bytes)\n",
    "\n",
    "# encode the string as an integer\n",
    "f = int.from_bytes(bytes(flag, 'ascii'), byteorder='big')\n",
    "ciphertext = encrypt(f, e, n)\n",
    "\n",
    "plaintext = decrypt(ciphertext, d, n)\n",
    "# decode the plaintext as string\n",
    "p = plaintext.to_bytes(key_bits//8, byteorder='big').decode('ascii')"
   ]
  },
  {
   "cell_type": "markdown",
   "id": "6d851574",
   "metadata": {},
   "source": [
    "## Special cases"
   ]
  },
  {
   "cell_type": "code",
   "execution_count": null,
   "id": "e2aa0b24",
   "metadata": {},
   "outputs": [],
   "source": [
    "print(encrypt(0,e,n))\n",
    "print(encrypt(1,e,n))\n",
    "print(encrypt(n,e,n))\n",
    "print(encrypt(-1,e,n))"
   ]
  },
  {
   "cell_type": "markdown",
   "id": "living-words",
   "metadata": {},
   "source": [
    "## Attacks\n",
    "---\n",
    "### Small exponent $e$  - plaintext recovery\n",
    "Suppose $e=3$. For a small plaintext $m$, it is possible to brute-force guess $m$: $$\\sqrt[e]{c}$$"
   ]
  },
  {
   "cell_type": "code",
   "execution_count": 40,
   "id": "194d0a02",
   "metadata": {
    "scrolled": true
   },
   "outputs": [
    {
     "name": "stdout",
     "output_type": "stream",
     "text": [
      "modulus: 52483463755050358431291594167767225838979059379795538692642750521578587312439\n",
      "ciphertext: 2042548109113812252163525474272795974844736\n",
      "cube root(c): (mpz(126879297332596), mpz(0))\n",
      "guess: 126879297332596\n",
      "original m: 126879297332596\n"
     ]
    }
   ],
   "source": [
    "import gmpy2\n",
    "message = 'secret'\n",
    "m = int.from_bytes(bytes(message, 'ascii'), byteorder='big')\n",
    "c = pow(m, 3, n)\n",
    "print(f'modulus: {n}')\n",
    "print(f'ciphertext: {c}')\n",
    "cube_root = gmpy2.iroot_rem(c,3)\n",
    "print(f'cube root(c): {cube_root}') # root and remainder\n",
    "print(f'guess: {cube_root[0]}')\n",
    "print(f'original m: {m}')"
   ]
  },
  {
   "cell_type": "markdown",
   "id": "7d71840a",
   "metadata": {},
   "source": [
    "If $e$ is small but $m^3>n$, it may be possible to recover $m$ from small multiples: $$\\sqrt[e]{c+kn}$$"
   ]
  },
  {
   "cell_type": "code",
   "execution_count": 46,
   "id": "de7b1c5c",
   "metadata": {},
   "outputs": [
    {
     "name": "stdout",
     "output_type": "stream",
     "text": [
      "pow(m,3) before modulo: (unkown without private key) \n",
      "2719439991958273208733653161439045609027040839550764719847986258704299828330816\n",
      "modulus: \n",
      "52483463755050358431291594167767225838979059379795538692642750521578587312439\n",
      "ciphertext: 42783340450704928737781858882917091239108811181192246523205982103791875396427\n",
      "cube root(c): (mpz(34975040831413158487309332), mpz(876629958637493208307685442414314476310612321154059))\n",
      "guess: 34975040831413158487309332\n",
      "original m: 139581060393214157926851956\n",
      "match found for k=51\n"
     ]
    }
   ],
   "source": [
    "message = 'supr secret'\n",
    "m = int.from_bytes(bytes(message, 'ascii'), byteorder='big')\n",
    "c_before_modulo = pow(m,3)\n",
    "print(f'pow(m,3) before modulo: (unkown without private key) \\n{c_before_modulo}')\n",
    "c = pow(m, 3, n)\n",
    "print(f'modulus: \\n{n}')\n",
    "print(f'ciphertext: {c}')\n",
    "cube_root = gmpy2.iroot_rem(c,3)\n",
    "print(f'cube root(c): {cube_root}') # root and remainder\n",
    "print(f'guess: {cube_root[0]}')\n",
    "print(f'original m: {m}')\n",
    "\n",
    "for k in range(100):\n",
    "    guess = int(gmpy2.iroot_rem(c+k*n,3)[0])\n",
    "    confirmed = pow(guess, 3, n) == c\n",
    "    if confirmed:\n",
    "        print(f'match found for k={k}')\n",
    "        break"
   ]
  },
  {
   "cell_type": "markdown",
   "id": "lesser-bread",
   "metadata": {},
   "source": [
    "---\n",
    "## Factoring $n$ - private key recovery\n",
    "_Factoring attack.__\n",
    "\n",
    "The private key $d$ is constructed from the prime factors of $n$ via the totient function:\n",
    "$$\n",
    "\\phi(n) = (p-1)\\cdot(q-1)\\\\\n",
    "d = e^{-1}\\pmod{\\phi(n)}\n",
    "$$\n",
    "Factoring $n$ allows immediate computation of $d$.\n",
    "\n",
    "Integer factoring options: look-up or computation\n",
    "- [factordb](http://factordb.com/) or [wolframalpha](https://www.wolframalpha.com/input/?i=factor+)\n",
    "- [pyecm](https://github.com/martingkelly/pyecm) using [gmpy2](https://github.com/aleaxit/gmpy)"
   ]
  },
  {
   "cell_type": "code",
   "execution_count": 10,
   "id": "contrary-bermuda",
   "metadata": {},
   "outputs": [
    {
     "name": "stdout",
     "output_type": "stream",
     "text": [
      "factors of 14036266608999809879: prod [mpz(3292142069), mpz(4263566491)] = 14036266608999809879\n"
     ]
    }
   ],
   "source": [
    "import pyecm\n",
    "\n",
    "P = getPrime(32)\n",
    "Q = getPrime(32)\n",
    "N = P*Q\n",
    "verbose = False\n",
    "random_sigma = True\n",
    "asymptotic_speed = 7\n",
    "processing_power = 1.0\n",
    "lf = list(pyecm.factors(N, verbose, random_sigma, asymptotic_speed, processing_power))\n",
    "print(f'factors of {N}: prod {lf} = {math.prod(lf)}')"
   ]
  },
  {
   "cell_type": "code",
   "execution_count": null,
   "id": "4b7d8e17",
   "metadata": {},
   "outputs": [],
   "source": []
  },
  {
   "cell_type": "markdown",
   "id": "91b9cb48",
   "metadata": {},
   "source": [
    "Factorization difficulty depends on the best known algorithm. For recommendations, see [SP 800-56b](https://csrc.nist.gov/publications/detail/sp/800-56b/rev-2/final).\n",
    "\n",
    "---\n",
    "## Common factor\n",
    "_Factoring attack._\n",
    "\n",
    "Suppose moduli $m,n$ were generated with one prime factor $p$ in common; then $p=\\gcd{m,n}$.\n",
    "\n",
    "$\\gcd$ is an extremely quick computation; large keys offer no protection.\n",
    "\n",
    "See [Lenstra et al](https://eprint.iacr.org/2012/064) _\"Ron was wrong, Whit is right\"_ and [Heninger et al.](https://www.usenix.org/conference/usenixsecurity12/technical-sessions/presentation/heninger) _\"Mining Your Ps and Qs: Detection of Widespread Weak Keys in Network Devices\"_."
   ]
  },
  {
   "cell_type": "code",
   "execution_count": 18,
   "id": "664950e1",
   "metadata": {},
   "outputs": [
    {
     "name": "stdout",
     "output_type": "stream",
     "text": [
      "gcd(m,n) = \n",
      "26815956581423103359639388739227375486729327191521064439200612917557997203718666616757319132554692571254242871845056948911524055741393408414547394728532939737063906306374966054809787745097906319910098341727407960065665932461953594734532739281068816094247662586446983966700564071573064794281207090993409366310421449669017375310616218791884204603262015374412502350564937378184614399667905384018091494990034604102596699991805461415642234374511170303138658889725032172951944175723585418771518725562386375279109772853235976421016335356522385658663402742849258298417380050438233360033352679664291994273951617250507168434043\n",
      "check: p = \n",
      "26815956581423103359639388739227375486729327191521064439200612917557997203718666616757319132554692571254242871845056948911524055741393408414547394728532939737063906306374966054809787745097906319910098341727407960065665932461953594734532739281068816094247662586446983966700564071573064794281207090993409366310421449669017375310616218791884204603262015374412502350564937378184614399667905384018091494990034604102596699991805461415642234374511170303138658889725032172951944175723585418771518725562386375279109772853235976421016335356522385658663402742849258298417380050438233360033352679664291994273951617250507168434043\n"
     ]
    }
   ],
   "source": [
    "p = getPrime(2048)\n",
    "q = getPrime(2048)\n",
    "r = getPrime(2048)\n",
    "m = p*q\n",
    "n = p*r\n",
    "print(f'gcd(m,n) = \\n{math.gcd(m,n)}')\n",
    "print(f'check: p = \\n{p}')"
   ]
  },
  {
   "cell_type": "markdown",
   "id": "ff00fcbc",
   "metadata": {},
   "source": [
    "---\n",
    "## Håstad broadcast\n",
    "_Small $e$ attack._\n",
    "\n",
    "\n"
   ]
  },
  {
   "cell_type": "code",
   "execution_count": 21,
   "id": "f66cc006",
   "metadata": {},
   "outputs": [],
   "source": [
    "# set-up: operations performed by the sender\n",
    "\n",
    "flag_bytes = 32\n",
    "flag = new_flag(flag_bytes)\n",
    "f = int.from_bytes(bytes(flag, 'ascii'), byteorder='big')\n",
    "\n",
    "e=3\n",
    "recipients = 3\n",
    "key_bits = 1024\n",
    "\n",
    "n = []\n",
    "c = []\n",
    "\n",
    "for i in range(recipients):\n",
    "    (_,modulus,_) = new_key(key_bits, e=e)\n",
    "    n.append(modulus)\n",
    "    ciphertext = encrypt(f, e, modulus)\n",
    "    c.append(ciphertext)"
   ]
  },
  {
   "cell_type": "code",
   "execution_count": 32,
   "id": "unlike-national",
   "metadata": {},
   "outputs": [],
   "source": [
    "# attack: operations performed after intercepting ciphertexts c_i, knowing public keys n_i\n",
    "# apply CRT, take e-th root\n",
    "import gmpy2\n",
    "N = math.prod(n)\n",
    "x = 0\n",
    "\n",
    "for i in range(recipients):\n",
    "    Ni = N//n[i]\n",
    "    Mi = inverse(Ni, n[i])\n",
    "    x += c[i]*Ni*Mi // N\n",
    "    \n",
    "r = gmpy2.iroot_rem(x,e)"
   ]
  },
  {
   "cell_type": "code",
   "execution_count": 33,
   "id": "cheap-mattress",
   "metadata": {},
   "outputs": [
    {
     "name": "stdout",
     "output_type": "stream",
     "text": [
      "computed plaintext: 37714140023490646963718488254719881154181363189816606416627858346690888492401\n",
      "original plaintext: 37714140023490646963718488254719881154181363189816606416627858346690888492402\n"
     ]
    }
   ],
   "source": [
    "# check:\n",
    "print(f'computed plaintext: {r[0]}')\n",
    "print(f'original plaintext: {f}')"
   ]
  },
  {
   "cell_type": "markdown",
   "id": "prepared-pricing",
   "metadata": {},
   "source": [
    "---\n",
    "## malleability\n",
    "_Oracle attack_"
   ]
  },
  {
   "cell_type": "code",
   "execution_count": 34,
   "id": "efficient-greeting",
   "metadata": {},
   "outputs": [],
   "source": [
    "# set-up\n",
    "key_bits = 256\n",
    "(e,n,d) = new_key(key_bits)\n",
    "flag_bytes = 30\n",
    "flag = new_flag(flag_bytes)\n",
    "f = int.from_bytes(bytes(flag, 'ascii'), byteorder='big')\n",
    "ciphertext = encrypt(f, e, n)\n",
    "\n",
    "def oracle_decrypt(ciphertext):\n",
    "    plaintext = decrypt(ciphertext, d, n)\n",
    "    if plaintext != f:\n",
    "        return plaintext\n",
    "    else:\n",
    "        return None"
   ]
  },
  {
   "cell_type": "code",
   "execution_count": 67,
   "id": "valued-memorabilia",
   "metadata": {},
   "outputs": [
    {
     "name": "stdout",
     "output_type": "stream",
     "text": [
      "recovered plaintext: 2042459775604086755171769544780848037517523826840258625818247985855062597815\n",
      "original plaintext: 700349218996600440567378411275167410741720293193487369797873011202745713\n"
     ]
    },
    {
     "ename": "UnicodeDecodeError",
     "evalue": "'ascii' codec can't decode byte 0x83 in position 1: ordinal not in range(128)",
     "output_type": "error",
     "traceback": [
      "\u001b[0;31m---------------------------------------------------------------------------\u001b[0m",
      "\u001b[0;31mUnicodeDecodeError\u001b[0m                        Traceback (most recent call last)",
      "\u001b[0;32m<ipython-input-67-27b0d33e8d2e>\u001b[0m in \u001b[0;36m<module>\u001b[0;34m\u001b[0m\n\u001b[1;32m     11\u001b[0m     \u001b[0mprint\u001b[0m\u001b[0;34m(\u001b[0m\u001b[0;34mf'original plaintext: {f}'\u001b[0m\u001b[0;34m)\u001b[0m\u001b[0;34m\u001b[0m\u001b[0;34m\u001b[0m\u001b[0m\n\u001b[1;32m     12\u001b[0m \u001b[0;31m# decode the plaintext as string\u001b[0m\u001b[0;34m\u001b[0m\u001b[0;34m\u001b[0m\u001b[0;34m\u001b[0m\u001b[0m\n\u001b[0;32m---> 13\u001b[0;31m \u001b[0mp\u001b[0m \u001b[0;34m=\u001b[0m \u001b[0mrecovered_plaintext\u001b[0m\u001b[0;34m.\u001b[0m\u001b[0mto_bytes\u001b[0m\u001b[0;34m(\u001b[0m\u001b[0mkey_bits\u001b[0m\u001b[0;34m//\u001b[0m\u001b[0;36m8\u001b[0m\u001b[0;34m,\u001b[0m \u001b[0mbyteorder\u001b[0m\u001b[0;34m=\u001b[0m\u001b[0;34m'big'\u001b[0m\u001b[0;34m)\u001b[0m\u001b[0;34m.\u001b[0m\u001b[0mdecode\u001b[0m\u001b[0;34m(\u001b[0m\u001b[0;34m'ascii'\u001b[0m\u001b[0;34m)\u001b[0m\u001b[0;34m\u001b[0m\u001b[0;34m\u001b[0m\u001b[0m\n\u001b[0m\u001b[1;32m     14\u001b[0m \u001b[0mprint\u001b[0m\u001b[0;34m(\u001b[0m\u001b[0mflag\u001b[0m\u001b[0;34m)\u001b[0m\u001b[0;34m\u001b[0m\u001b[0;34m\u001b[0m\u001b[0m\n\u001b[1;32m     15\u001b[0m \u001b[0mprint\u001b[0m\u001b[0;34m(\u001b[0m\u001b[0mp\u001b[0m\u001b[0;34m)\u001b[0m\u001b[0;34m\u001b[0m\u001b[0;34m\u001b[0m\u001b[0m\n",
      "\u001b[0;31mUnicodeDecodeError\u001b[0m: 'ascii' codec can't decode byte 0x83 in position 1: ordinal not in range(128)"
     ]
    }
   ],
   "source": [
    "# attack\n",
    "from Crypto.Util.number import getPrime\n",
    "blind = getPrime(key_bits)\n",
    "blind_ciphertext = encrypt(blind, e, n)*ciphertext\n",
    "\n",
    "prophecy = oracle_decrypt(blind_ciphertext)\n",
    "\n",
    "if prophecy is not None:\n",
    "    recovered_plaintext = prophecy*inverse(blind,n)//n\n",
    "    print(f'recovered plaintext: {recovered_plaintext}')\n",
    "    print(f'original plaintext: {f}')\n",
    "# decode the plaintext as string\n",
    "p = recovered_plaintext.to_bytes(key_bits//8, byteorder='big').decode('ascii')\n",
    "print(flag)\n",
    "print(p)"
   ]
  },
  {
   "cell_type": "markdown",
   "id": "subtle-radical",
   "metadata": {},
   "source": [
    "---\n",
    "## LSB oracle\n",
    "_Oracle attack_"
   ]
  },
  {
   "cell_type": "code",
   "execution_count": 16,
   "id": "saved-roller",
   "metadata": {},
   "outputs": [
    {
     "name": "stdout",
     "output_type": "stream",
     "text": [
      "bit sequence: [1, 0, 0, 0, 1, 0, 0, 1, 1, 0, 1, 0, 0, 1, 0, 0]\n",
      "Final upper bound: 11120\n",
      "original flag: in, int: 26990\n"
     ]
    }
   ],
   "source": [
    "def oracle_lsb(c):\n",
    "    m = decrypt(c, d, n)\n",
    "    lsb = m%2\n",
    "    return lsb\n",
    "\n",
    "key_bits = 16\n",
    "(e,n,d) = new_key(key_bits, e=17)\n",
    "flag_bytes = 2\n",
    "flag = new_flag(flag_bytes)\n",
    "f = int.from_bytes(bytes(flag, 'ascii'), byteorder='big')\n",
    "c = encrypt(f, e, n)\n",
    "\n",
    "U = n\n",
    "L = 0\n",
    "prophecy=[]\n",
    "for i in range(key_bits):\n",
    "    g = encrypt(2**i, e, n)\n",
    "    o = oracle_lsb(g*c)\n",
    "    prophecy.append(o)\n",
    "    if o == 0:\n",
    "        U = (U+L) // 2\n",
    "    else:\n",
    "        L = (U+L) // 2\n",
    "print(f'bit sequence: {prophecy}')\n",
    "print(f'Final upper bound: {U}')\n",
    "print(f'original flag: {flag}, int: {f}')"
   ]
  },
  {
   "cell_type": "code",
   "execution_count": null,
   "id": "unlikely-heritage",
   "metadata": {},
   "outputs": [],
   "source": []
  }
 ],
 "metadata": {
  "kernelspec": {
   "display_name": "Python 3",
   "language": "python",
   "name": "python3"
  },
  "language_info": {
   "codemirror_mode": {
    "name": "ipython",
    "version": 3
   },
   "file_extension": ".py",
   "mimetype": "text/x-python",
   "name": "python",
   "nbconvert_exporter": "python",
   "pygments_lexer": "ipython3",
   "version": "3.8.5"
  }
 },
 "nbformat": 4,
 "nbformat_minor": 5
}
