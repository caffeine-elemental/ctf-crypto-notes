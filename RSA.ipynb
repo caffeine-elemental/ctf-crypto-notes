{
 "cells": [
  {
   "cell_type": "markdown",
   "id": "ancient-strength",
   "metadata": {},
   "source": [
    "# RSA - textbook\n"
   ]
  },
  {
   "cell_type": "code",
   "execution_count": 43,
   "id": "developmental-influence",
   "metadata": {},
   "outputs": [],
   "source": [
    "from Crypto.Util.number import getPrime, inverse, size\n",
    "import secrets\n",
    "import sys"
   ]
  },
  {
   "cell_type": "code",
   "execution_count": 60,
   "id": "typical-basket",
   "metadata": {},
   "outputs": [],
   "source": [
    "def new_key(key_bits):\n",
    "    p = getPrime(key_bits//2)\n",
    "    q = getPrime(key_bits//2)\n",
    "\n",
    "    # public key:\n",
    "    n = p*q\n",
    "    # exponent:\n",
    "    e = 65537\n",
    "    \n",
    "    phi = (p-1)*(q-1)\n",
    "    # private key:\n",
    "    d = inverse(e, phi)\n",
    "    \n",
    "    return(e, n, d)"
   ]
  },
  {
   "cell_type": "code",
   "execution_count": 77,
   "id": "stunning-communication",
   "metadata": {},
   "outputs": [],
   "source": [
    "def encrypt(plaintext:int, public_key, exponent) -> int:\n",
    "\n",
    "    ciphertext = pow(plaintext, exponent, public_key)\n",
    "    \n",
    "    return ciphertext"
   ]
  },
  {
   "cell_type": "code",
   "execution_count": 75,
   "id": "scenic-projector",
   "metadata": {},
   "outputs": [],
   "source": [
    "def decrypt(ciphertext:int, public_key, private_key) -> int:\n",
    "\n",
    "    plaintext = pow(ciphertext, private_key, public_key)\n",
    "    \n",
    "    return plaintext"
   ]
  },
  {
   "cell_type": "code",
   "execution_count": 63,
   "id": "joint-filter",
   "metadata": {},
   "outputs": [],
   "source": [
    "def new_flag(flag_bytes):\n",
    "    with open('/usr/share/dict/words') as w:\n",
    "\t\t\n",
    "        numWords = flag_bytes\n",
    "        words = [word.strip() for word in w]\n",
    "\n",
    "        flag = ' '.join(secrets.choice(words) for i in range(numWords))\n",
    "    return flag[0:flag_bytes]"
   ]
  },
  {
   "cell_type": "code",
   "execution_count": 80,
   "id": "rolled-repository",
   "metadata": {},
   "outputs": [
    {
     "name": "stdout",
     "output_type": "stream",
     "text": [
      "\u0000glens amps roadhouse's dealer's\n"
     ]
    }
   ],
   "source": [
    "key_bits = 256\n",
    "(e,n,d) = new_key(key_bits)\n",
    "flag_bytes = 31\n",
    "flag = new_flag(flag_bytes)\n",
    "\n",
    "# encode the string as an integer\n",
    "f = int.from_bytes(bytes(flag, 'ascii'), byteorder='big')\n",
    "ciphertext = encrypt(f, n, e)\n",
    "\n",
    "plaintext = decrypt(ciphertext, n, d)\n",
    "# decode the plaintext as string\n",
    "p = plaintext.to_bytes(key_bits//8, byteorder='big').decode('ascii')\n",
    "    \n",
    "print(p)"
   ]
  },
  {
   "cell_type": "markdown",
   "id": "living-words",
   "metadata": {},
   "source": [
    "### Questions\n",
    "- What happens if flag_bytes > 31?"
   ]
  },
  {
   "cell_type": "markdown",
   "id": "lesser-bread",
   "metadata": {},
   "source": [
    "Integer factoring options:\n",
    "- [factordb](http://factordb.com/)\n",
    "- [wolframalpha](https://www.wolframalpha.com/input/?i=factor+)\n",
    "- [gmpy2](https://github.com/aleaxit/gmpy) and e.g. [pyecm](https://github.com/martingkelly/pyecm)"
   ]
  },
  {
   "cell_type": "code",
   "execution_count": null,
   "id": "contrary-bermuda",
   "metadata": {},
   "outputs": [],
   "source": []
  },
  {
   "cell_type": "code",
   "execution_count": null,
   "id": "suitable-celebrity",
   "metadata": {},
   "outputs": [],
   "source": []
  }
 ],
 "metadata": {
  "kernelspec": {
   "display_name": "Python 3",
   "language": "python",
   "name": "python3"
  },
  "language_info": {
   "codemirror_mode": {
    "name": "ipython",
    "version": 3
   },
   "file_extension": ".py",
   "mimetype": "text/x-python",
   "name": "python",
   "nbconvert_exporter": "python",
   "pygments_lexer": "ipython3",
   "version": "3.8.5"
  }
 },
 "nbformat": 4,
 "nbformat_minor": 5
}
