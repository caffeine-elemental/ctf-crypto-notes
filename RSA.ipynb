{
 "cells": [
  {
   "cell_type": "markdown",
   "id": "ancient-strength",
   "metadata": {},
   "source": [
    "# RSA cryptosystem\n",
    "Intuition: it is feasible to find integers $d, e, n$ such that\n",
    "$$ (m^e)^d\\equiv m \\pmod{n}$$\n",
    "for integers $m<n$, such that it is infeasible to find $d$ given $e$, $n$, and/or $m$, and that\n",
    "$$ (m^d)^e\\equiv m \\pmod{n}.$$\n"
   ]
  },
  {
   "cell_type": "code",
   "execution_count": 12,
   "id": "developmental-influence",
   "metadata": {},
   "outputs": [],
   "source": [
    "from Crypto.Util.number import getPrime, getRandomInteger, size, inverse\n",
    "import secrets\n",
    "import math"
   ]
  },
  {
   "cell_type": "code",
   "execution_count": 13,
   "id": "typical-basket",
   "metadata": {},
   "outputs": [],
   "source": [
    "def new_key(key_bits:int, e:int = 65537):\n",
    "    # note: primes are close for Fermat\n",
    "    p = getPrime(key_bits//2)\n",
    "    q = getPrime(key_bits//2)\n",
    "\n",
    "    # public key:\n",
    "    n = p*q    \n",
    "    \n",
    "    # totient function\n",
    "    phi = (p-1)*(q-1)\n",
    "    # private key:\n",
    "    d = inverse(e, phi)\n",
    "\n",
    "    return(e, n, d)"
   ]
  },
  {
   "cell_type": "code",
   "execution_count": 14,
   "id": "stunning-communication",
   "metadata": {},
   "outputs": [],
   "source": [
    "def encrypt(plaintext:int, exponent:int, public_key:int) -> int:\n",
    "\n",
    "    ciphertext = pow(plaintext, exponent, public_key)\n",
    "    \n",
    "    return ciphertext"
   ]
  },
  {
   "cell_type": "code",
   "execution_count": 15,
   "id": "scenic-projector",
   "metadata": {},
   "outputs": [],
   "source": [
    "def decrypt(ciphertext:int, private_key:int, public_key:int) -> int:\n",
    "\n",
    "    plaintext = pow(ciphertext, private_key, public_key)\n",
    "    \n",
    "    return plaintext"
   ]
  },
  {
   "cell_type": "code",
   "execution_count": 16,
   "id": "joint-filter",
   "metadata": {},
   "outputs": [],
   "source": [
    "def new_flag(flag_bytes:int):\n",
    "    with open('/usr/share/dict/words') as w:\n",
    "\t\t\n",
    "        numWords = flag_bytes\n",
    "        words = [word.strip() for word in w]\n",
    "\n",
    "        flag = ' '.join(secrets.choice(words) for i in range(numWords))\n",
    "    return flag[0:flag_bytes]"
   ]
  },
  {
   "cell_type": "code",
   "execution_count": 17,
   "id": "rolled-repository",
   "metadata": {},
   "outputs": [
    {
     "name": "stdout",
     "output_type": "stream",
     "text": [
      "575768359386974321761174856632276695287233838083748033007141213954404204\n",
      "575768359386974321761174856632276695287233838083748033007141213954404204\n"
     ]
    }
   ],
   "source": [
    "key_bits = 256\n",
    "(e,n,d) = new_key(key_bits)\n",
    "flag_bytes = 30\n",
    "flag = new_flag(flag_bytes)\n",
    "\n",
    "# encode the string as an integer\n",
    "f = int.from_bytes(bytes(flag, 'ascii'), byteorder='big')\n",
    "ciphertext = encrypt(f, e, n)\n",
    "\n",
    "p = decrypt(ciphertext, d, n)\n",
    "# decode the plaintext as string\n",
    "plaintext = p.to_bytes(key_bits//8, byteorder='big').decode('ascii')\n",
    "print(f)\n",
    "print(p)"
   ]
  },
  {
   "cell_type": "markdown",
   "id": "6d851574",
   "metadata": {},
   "source": [
    "## Special cases"
   ]
  },
  {
   "cell_type": "code",
   "execution_count": 20,
   "id": "e2aa0b24",
   "metadata": {},
   "outputs": [
    {
     "name": "stdout",
     "output_type": "stream",
     "text": [
      "0\n",
      "1\n",
      "0\n",
      "41205208645688152784868602166305371145094014618651799722270182400743202058076\n",
      "41205208645688152784868602166305371145094014618651799722270182400743202058076\n"
     ]
    }
   ],
   "source": [
    "print(encrypt(0,e,n))\n",
    "print(encrypt(1,e,n))\n",
    "print(encrypt(n,e,n))\n",
    "print(encrypt(-1,e,n))\n",
    "print(encrypt(n-1,e,n))"
   ]
  },
  {
   "cell_type": "markdown",
   "id": "living-words",
   "metadata": {},
   "source": [
    "## Attacks\n",
    "---\n",
    "### Small exponent $e$  - plaintext recovery\n",
    "Suppose $e=3$. For a small plaintext $m$, it is possible to brute-force guess $m$: $$\\sqrt[e]{c}$$"
   ]
  },
  {
   "cell_type": "code",
   "execution_count": 21,
   "id": "194d0a02",
   "metadata": {
    "scrolled": true
   },
   "outputs": [
    {
     "name": "stdout",
     "output_type": "stream",
     "text": [
      "modulus: 41205208645688152784868602166305371145094014618651799722270182400743202058077\n",
      "ciphertext: 2042548109113812252163525474272795974844736\n",
      "cube root(c): (mpz(126879297332596), mpz(0))\n",
      "guess: 126879297332596\n",
      "original m: 126879297332596\n"
     ]
    }
   ],
   "source": [
    "import gmpy2\n",
    "message = 'secret'\n",
    "m = int.from_bytes(bytes(message, 'ascii'), byteorder='big')\n",
    "c = pow(m, 3, n)\n",
    "print(f'modulus: {n}')\n",
    "print(f'ciphertext: {c}')\n",
    "cube_root = gmpy2.iroot_rem(c,3)\n",
    "print(f'cube root(c): {cube_root}') # root and remainder\n",
    "print(f'guess: {cube_root[0]}')\n",
    "print(f'original m: {m}')"
   ]
  },
  {
   "cell_type": "markdown",
   "id": "7d71840a",
   "metadata": {},
   "source": [
    "If $e$ is small but $m^3>n$, it may be possible to recover $m$ from small multiples: $$\\sqrt[e]{c+kn}$$"
   ]
  },
  {
   "cell_type": "code",
   "execution_count": 25,
   "id": "de7b1c5c",
   "metadata": {},
   "outputs": [
    {
     "name": "stdout",
     "output_type": "stream",
     "text": [
      "pow(m,3) before modulo: (unkown without private key) \n",
      "2719439991958273208733653161439045609027040839550764719847986258704299828330816\n",
      "modulus: \n",
      "41205208645688152784868602166305371145094014618651799722270182400743202058077\n",
      "ciphertext: 41101429988543277717194020629196484595929889338397737900424402655991694555811\n",
      "cube root(c): (mpz(34510584160981754836525344), mpz(3517468179058119397538386791491138412385816586648227))\n",
      "guess: 34510584160981754836525344\n",
      "original m: 139581060393214157926851956\n",
      "match found for k=65\n"
     ]
    }
   ],
   "source": [
    "message = 'supr secret'\n",
    "m = int.from_bytes(bytes(message, 'ascii'), byteorder='big')\n",
    "c_before_modulo = pow(m,3)\n",
    "print(f'pow(m,3) before modulo: (unkown without private key) \\n{c_before_modulo}')\n",
    "c = pow(m, 3, n)\n",
    "print(f'modulus: \\n{n}')\n",
    "print(f'ciphertext: {c}')\n",
    "cube_root = gmpy2.iroot_rem(c,3)\n",
    "print(f'cube root(c): {cube_root}') # root and remainder\n",
    "print(f'guess: {cube_root[0]}')\n",
    "print(f'original m: {m}')\n",
    "\n",
    "for k in range(100):\n",
    "    guess = int(gmpy2.iroot_rem(c+k*n,3)[0])\n",
    "    confirmed = pow(guess, 3, n) == c\n",
    "    if confirmed:\n",
    "        print(f'match found for k={k}')\n",
    "        break"
   ]
  },
  {
   "cell_type": "markdown",
   "id": "lesser-bread",
   "metadata": {},
   "source": [
    "---\n",
    "## Factoring $n$ - private key recovery\n",
    "_Factoring attack._\n",
    "\n",
    "The private key $d$ is constructed from the prime factors of $n$ via the totient function:\n",
    "$$\n",
    "\\phi(n) = (p-1)\\cdot(q-1)\\\\\n",
    "d = e^{-1}\\pmod{\\phi(n)}\n",
    "$$\n",
    "Factoring $n$ allows immediate computation of $d$.\n",
    "\n",
    "Integer factoring options: look-up or computation\n",
    "- [factordb](http://factordb.com/) or [wolframalpha](https://www.wolframalpha.com/input/?i=factor+)\n",
    "- [pyecm](https://github.com/martingkelly/pyecm) using [gmpy2](https://github.com/aleaxit/gmpy)"
   ]
  },
  {
   "cell_type": "code",
   "execution_count": 26,
   "id": "contrary-bermuda",
   "metadata": {},
   "outputs": [
    {
     "name": "stdout",
     "output_type": "stream",
     "text": [
      "factors of 10058500237572902651: prod [mpz(2682566749), mpz(3749580599)] = 10058500237572902651\n"
     ]
    }
   ],
   "source": [
    "import pyecm\n",
    "\n",
    "P = getPrime(32)\n",
    "Q = getPrime(32)\n",
    "N = P*Q\n",
    "verbose = False\n",
    "random_sigma = True\n",
    "asymptotic_speed = 7\n",
    "processing_power = 1.0\n",
    "lf = list(pyecm.factors(N, verbose, random_sigma, asymptotic_speed, processing_power))\n",
    "print(f'factors of {N}: prod {lf} = {math.prod(lf)}')"
   ]
  },
  {
   "cell_type": "code",
   "execution_count": null,
   "id": "4b7d8e17",
   "metadata": {},
   "outputs": [],
   "source": []
  },
  {
   "cell_type": "markdown",
   "id": "91b9cb48",
   "metadata": {},
   "source": [
    "Factorization difficulty depends on the best known algorithm. For recommendations, see [SP 800-56b](https://csrc.nist.gov/publications/detail/sp/800-56b/rev-2/final).\n",
    "\n",
    "---\n",
    "## Common factor\n",
    "_Factoring attack._\n",
    "\n",
    "Suppose moduli $n_1,n_2$ were generated with one prime factor $p$ in common; then $p=\\gcd{n_1,n_2}$.\n",
    "\n",
    "$\\gcd$ is an extremely quick computation; large keys offer no protection.\n",
    "\n",
    "See [Lenstra et al](https://eprint.iacr.org/2012/064) _\"Ron was wrong, Whit is right\"_ and [Heninger et al.](https://www.usenix.org/conference/usenixsecurity12/technical-sessions/presentation/heninger) _\"Mining Your Ps and Qs: Detection of Widespread Weak Keys in Network Devices\"_."
   ]
  },
  {
   "cell_type": "code",
   "execution_count": 27,
   "id": "664950e1",
   "metadata": {},
   "outputs": [
    {
     "name": "stdout",
     "output_type": "stream",
     "text": [
      "gcd(m,n) = \n",
      "25743075022381426310546765828422840203465425132457583337964802151652329705521551864298594809884785410914128599886058194732971314184677536248772953349949418255240569855385136973659103091660457207173591790856090624914505222792747013180937453294830482972538047014139910620790345986587351913718164700972859642919623380987338263971027963668451764075395124581987678259424783993300807321150636641791572942224478136130329572672934124000008194533762003192329192034321863387542308915436850598446811817608983894908991408596545840855833131625856772039717675632536728283205788224643557534059205790537255306281583689132855681604319\n",
      "check: p = \n",
      "25743075022381426310546765828422840203465425132457583337964802151652329705521551864298594809884785410914128599886058194732971314184677536248772953349949418255240569855385136973659103091660457207173591790856090624914505222792747013180937453294830482972538047014139910620790345986587351913718164700972859642919623380987338263971027963668451764075395124581987678259424783993300807321150636641791572942224478136130329572672934124000008194533762003192329192034321863387542308915436850598446811817608983894908991408596545840855833131625856772039717675632536728283205788224643557534059205790537255306281583689132855681604319\n"
     ]
    }
   ],
   "source": [
    "p = getPrime(2048)\n",
    "q = getPrime(2048)\n",
    "r = getPrime(2048)\n",
    "n1 = p*q\n",
    "n2 = p*r\n",
    "print(f'gcd(m,n) = \\n{math.gcd(n1,n2)}')\n",
    "print(f'check: p = \\n{p}')"
   ]
  },
  {
   "cell_type": "markdown",
   "id": "ff00fcbc",
   "metadata": {},
   "source": [
    "---\n",
    "## Håstad broadcast\n",
    "_Small $e$ attack._\n",
    "\n",
    "\n"
   ]
  },
  {
   "cell_type": "code",
   "execution_count": 29,
   "id": "f66cc006",
   "metadata": {},
   "outputs": [],
   "source": [
    "# set-up: operations performed by the sender\n",
    "\n",
    "flag_bytes = 32\n",
    "flag = new_flag(flag_bytes)\n",
    "f = int.from_bytes(bytes(flag, 'ascii'), byteorder='big')\n",
    "\n",
    "e=3\n",
    "recipients = 3\n",
    "key_bits = 1024\n",
    "\n",
    "n = []\n",
    "c = []\n",
    "\n",
    "for i in range(recipients):\n",
    "    (_,modulus,_) = new_key(key_bits, e=e)\n",
    "    n.append(modulus)\n",
    "    ciphertext = encrypt(f, e, modulus)\n",
    "    c.append(ciphertext)"
   ]
  },
  {
   "cell_type": "code",
   "execution_count": 30,
   "id": "unlike-national",
   "metadata": {},
   "outputs": [],
   "source": [
    "# attack: operations performed after intercepting ciphertexts c_i, knowing public keys n_i\n",
    "# apply CRT, take e-th root\n",
    "from gmpy2 import iroot_rem\n",
    "N = math.prod(n)\n",
    "x = 0\n",
    "\n",
    "for i in range(recipients):\n",
    "    Ni = N//n[i]\n",
    "    Mi = inverse(Ni, n[i])\n",
    "    x += c[i]*Ni*Mi\n",
    "x %= N\n",
    "r = iroot_rem(x,e)"
   ]
  },
  {
   "cell_type": "code",
   "execution_count": 87,
   "id": "cheap-mattress",
   "metadata": {},
   "outputs": [
    {
     "name": "stdout",
     "output_type": "stream",
     "text": [
      "computed plaintext: 44951042262399525090548103550261314482125373662639964963746244977282326538099\n",
      "original plaintext: 44951042262399525090548103550261314482125373662639964963746244977282326538099\n"
     ]
    }
   ],
   "source": [
    "# check:\n",
    "print(f'computed plaintext: {r[0]}')\n",
    "print(f'original plaintext: {f}')"
   ]
  },
  {
   "cell_type": "markdown",
   "id": "prepared-pricing",
   "metadata": {},
   "source": [
    "---\n",
    "## malleability\n",
    "_Oracle attack_"
   ]
  },
  {
   "cell_type": "code",
   "execution_count": 31,
   "id": "efficient-greeting",
   "metadata": {},
   "outputs": [],
   "source": [
    "# set-up\n",
    "key_bits = 256\n",
    "(e,n,d) = new_key(key_bits)\n",
    "flag_bytes = 30\n",
    "flag = new_flag(flag_bytes)\n",
    "f = int.from_bytes(bytes(flag, 'utf-8'), byteorder='big')\n",
    "ciphertext = encrypt(f, e, n)\n",
    "\n",
    "def oracle_decrypt(ciphertext):\n",
    "    plaintext = decrypt(ciphertext, d, n)\n",
    "    if plaintext != f:\n",
    "        return plaintext\n",
    "    else:\n",
    "        return None"
   ]
  },
  {
   "cell_type": "code",
   "execution_count": 33,
   "id": "valued-memorabilia",
   "metadata": {},
   "outputs": [
    {
     "name": "stdout",
     "output_type": "stream",
     "text": [
      "recovered plaintext: 693017580496240904647204858270188771585302328050680973298406225795642981\n",
      "original plaintext: 693017580496240904647204858270188771585302328050680973298406225795642981\n",
      "disbursed Vicky slavishly adve\n",
      "\u0000\u0000disbursed Vicky slavishly adve\n"
     ]
    }
   ],
   "source": [
    "# attack\n",
    "blind = getRandomInteger(20)\n",
    "blind_ciphertext = encrypt(blind, e, n)*ciphertext\n",
    "prophecy = oracle_decrypt(blind_ciphertext)\n",
    "\n",
    "if prophecy is not None:\n",
    "    recovered_plaintext = inverse(blind,n)*prophecy%n\n",
    "    print(f'recovered plaintext: {recovered_plaintext}')\n",
    "    print(f'original plaintext: {f}')\n",
    "    # decode the plaintext as string\n",
    "    p = recovered_plaintext.to_bytes(key_bits//8, byteorder='big').decode('utf-8')\n",
    "    print(flag)\n",
    "    print(p)"
   ]
  },
  {
   "cell_type": "markdown",
   "id": "subtle-radical",
   "metadata": {},
   "source": [
    "---\n",
    "## LSB oracle\n",
    "_Oracle attack_"
   ]
  },
  {
   "cell_type": "code",
   "execution_count": 34,
   "id": "saved-roller",
   "metadata": {},
   "outputs": [],
   "source": [
    "# set-up\n",
    "\n",
    "def oracle_lsb(c):\n",
    "    m = decrypt(c, d, n)\n",
    "    lsb = m%2\n",
    "    return lsb\n",
    "\n",
    "key_bits = 256\n",
    "(e,n,d) = new_key(key_bits)\n",
    "flag_bytes = 30\n",
    "flag = new_flag(flag_bytes)\n",
    "f = int.from_bytes(bytes(flag, 'ascii'), byteorder='big')\n",
    "c = encrypt(f, e, n)"
   ]
  },
  {
   "cell_type": "code",
   "execution_count": 36,
   "id": "brilliant-messaging",
   "metadata": {},
   "outputs": [
    {
     "name": "stdout",
     "output_type": "stream",
     "text": [
      "Final upper bound: \n",
      "796840546118453534503139194091874905816964703097372883510291491554816800.067719\n",
      "Final lower bound: \n",
      "796840546118453534503139194091874905816964703097372883510291491554816799.533619\n",
      "original flag: stuccoing homespun shrillness , int: \n",
      "796840546118453534503139194091874905816964703097372883510291491554816800\n"
     ]
    }
   ],
   "source": [
    "# attack\n",
    "\n",
    "gmpy2.get_context().precision=key_bits+1\n",
    "U = gmpy2.mpfr(n)\n",
    "L = 0\n",
    "\n",
    "for i in range(1, key_bits+1):\n",
    "    g = encrypt(2**i, e, n)\n",
    "    o = oracle_lsb(g*c%n)\n",
    "\n",
    "    if o == 0:\n",
    "        U = (U+L) / 2\n",
    "    else:\n",
    "        L = (U+L) / 2\n",
    "\n",
    "print(f'Final upper bound: \\n{U}')\n",
    "print(f'Final lower bound: \\n{L}')\n",
    "print(f'original flag: {flag}, int: \\n{f}')"
   ]
  },
  {
   "cell_type": "markdown",
   "id": "tested-organic",
   "metadata": {},
   "source": [
    "---\n",
    "## Bleichenbacher oracle\n",
    "Detailed walkthrough on [secgroup.dais.unive.it](http://secgroup.dais.unive.it/wp-content/uploads/2012/11/Practical-Padding-Oracle-Attacks-on-RSA.html); useful source on [github.com/duesee/bleichenbacher](https://github.com/duesee/bleichenbacher).\n",
    "\n",
    "See also [RFC 2313](https://tools.ietf.org/html/rfc2313) PKCS \\#1: RSA Encryption Version 1.5, section 8.1."
   ]
  },
  {
   "cell_type": "code",
   "execution_count": null,
   "id": "73c22159",
   "metadata": {},
   "outputs": [],
   "source": []
  }
 ],
 "metadata": {
  "kernelspec": {
   "display_name": "Python 3",
   "language": "python",
   "name": "python3"
  },
  "language_info": {
   "codemirror_mode": {
    "name": "ipython",
    "version": 3
   },
   "file_extension": ".py",
   "mimetype": "text/x-python",
   "name": "python",
   "nbconvert_exporter": "python",
   "pygments_lexer": "ipython3",
   "version": "3.8.5"
  }
 },
 "nbformat": 4,
 "nbformat_minor": 5
}
