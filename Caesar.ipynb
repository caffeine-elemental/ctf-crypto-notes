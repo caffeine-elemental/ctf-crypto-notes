{
 "cells": [
  {
   "cell_type": "code",
   "execution_count": 18,
   "id": "textile-celebrity",
   "metadata": {},
   "outputs": [],
   "source": [
    "import secrets\n",
    "import string"
   ]
  },
  {
   "cell_type": "code",
   "execution_count": 19,
   "id": "remarkable-gibson",
   "metadata": {},
   "outputs": [],
   "source": [
    "def new_flag():\n",
    "    with open('/usr/share/dict/words') as w:\n",
    "\t\t\n",
    "        numWords = 8\n",
    "        words = [word.strip() for word in w]\n",
    "\n",
    "        flag = ' '.join(secrets.choice(words) for i in range(numWords))\n",
    "    return flag"
   ]
  },
  {
   "cell_type": "code",
   "execution_count": 20,
   "id": "forty-conditioning",
   "metadata": {},
   "outputs": [],
   "source": [
    "def new_key():\n",
    "    key = secrets.randbelow(26)\n",
    "    return key"
   ]
  },
  {
   "cell_type": "code",
   "execution_count": 21,
   "id": "cordless-device",
   "metadata": {},
   "outputs": [],
   "source": [
    "def encrypt(plaintext, key):\n",
    "\n",
    "\tciphertext = ''\n",
    "\t\n",
    "\tfor p in plaintext:\n",
    "\t\t\n",
    "\t\t# ord('a') = 97\n",
    "\t\tif p in string.ascii_lowercase:\n",
    "\t\t\tc = chr( ((ord(p) - 97 + key) % 26) + 97)\n",
    "\t\t# ord('A') = 65\n",
    "\t\telif p in string.ascii_uppercase:\n",
    "\t\t\tc = chr( ((ord(p) - 65 + key) % 26) + 65)\n",
    "\t\telse:\n",
    "\t\t\tc = p\n",
    "\t\t\n",
    "\t\tciphertext += c\n",
    "\t\t\n",
    "\treturn ciphertext"
   ]
  },
  {
   "cell_type": "code",
   "execution_count": 23,
   "id": "little-wages",
   "metadata": {},
   "outputs": [
    {
     "name": "stdout",
     "output_type": "stream",
     "text": [
      "uzbgffuzs uzfdapgoqp oayyuzsxuzs nqmefxk'e pkqefgrr'e Efkdaramye qdgpufuaz eomxmd\n"
     ]
    }
   ],
   "source": [
    "flag = new_flag()\n",
    "key = new_key()\n",
    "message = encrypt(flag, key)\n",
    "\n",
    "print(message)"
   ]
  },
  {
   "cell_type": "code",
   "execution_count": null,
   "id": "environmental-desktop",
   "metadata": {},
   "outputs": [],
   "source": [
    "# brute force plaintext & key recovery"
   ]
  },
  {
   "cell_type": "code",
   "execution_count": null,
   "id": "pointed-synthetic",
   "metadata": {},
   "outputs": [],
   "source": []
  }
 ],
 "metadata": {
  "kernelspec": {
   "display_name": "Python 3",
   "language": "python",
   "name": "python3"
  },
  "language_info": {
   "codemirror_mode": {
    "name": "ipython",
    "version": 3
   },
   "file_extension": ".py",
   "mimetype": "text/x-python",
   "name": "python",
   "nbconvert_exporter": "python",
   "pygments_lexer": "ipython3",
   "version": "3.8.5"
  }
 },
 "nbformat": 4,
 "nbformat_minor": 5
}
