{
 "cells": [
  {
   "cell_type": "markdown",
   "id": "precise-timothy",
   "metadata": {},
   "source": [
    "# Useful tools\n",
    "Python [built-in fuctions](https://docs.python.org/3/library/functions.html):\n",
    "- _chr(i)_: return the string representing a character whose Unicode code point is the integer _i_.\n",
    "- _ord(s)_: return an integer representing the Unicode code point of the string character _s_.\n",
    "\n",
    "[string](https://docs.python.org/3/library/string.html) constants\n",
    "\n",
    "Modulo arithmetic: $a$ is congruent to $b$ modulo $n$\n",
    "$$ a \\equiv b \\pmod{n} $$\n",
    "if $$a=b+kn$$ for some $k$\n"
   ]
  },
  {
   "cell_type": "code",
   "execution_count": 29,
   "id": "sustainable-roulette",
   "metadata": {},
   "outputs": [
    {
     "name": "stdout",
     "output_type": "stream",
     "text": [
      "Lowercase letters: abcdefghijklmnopqrstuvwxyz\n",
      "97\n",
      "42\n",
      "0.5714285714285714\n",
      "0\n",
      "4\n",
      "3 is equivalent to ...[-23, 3, 29, 55, 81]... modulo 26\n",
      "[3, 3, 3, 3, 3]\n"
     ]
    }
   ],
   "source": [
    "import string\n",
    "print(f'Lowercase letters: {string.ascii_lowercase}')\n",
    "print(ord('a'))\n",
    "print(ord(chr(42)))\n",
    "\n",
    "# python 3 division\n",
    "# float\n",
    "print(4/7)\n",
    "# floor\n",
    "print(4//7)\n",
    "# remainder\n",
    "print(4%7)\n",
    "\n",
    "c = []\n",
    "a = 3\n",
    "n = 26\n",
    "for k in range(-1,4):\n",
    "    c.append(a+k*n)\n",
    "    \n",
    "print(f'{a} is equivalent to ...{c}... modulo {n}')\n",
    "# double-check:\n",
    "print( [j %26 for j in c] )"
   ]
  },
  {
   "cell_type": "markdown",
   "id": "sublime-arrangement",
   "metadata": {},
   "source": [
    "---\n",
    "# Caesar cipher"
   ]
  },
  {
   "cell_type": "code",
   "execution_count": 30,
   "id": "textile-celebrity",
   "metadata": {},
   "outputs": [],
   "source": [
    "import secrets\n",
    "import string"
   ]
  },
  {
   "cell_type": "code",
   "execution_count": 31,
   "id": "remarkable-gibson",
   "metadata": {},
   "outputs": [],
   "source": [
    "def new_flag():\n",
    "    with open('/usr/share/dict/words') as w:\n",
    "\t\t\n",
    "        numWords = 8\n",
    "        words = [word.strip() for word in w]\n",
    "\n",
    "        flag = ' '.join(secrets.choice(words) for i in range(numWords))\n",
    "    return flag"
   ]
  },
  {
   "cell_type": "code",
   "execution_count": 32,
   "id": "forty-conditioning",
   "metadata": {},
   "outputs": [],
   "source": [
    "def new_key():\n",
    "    key = secrets.randbelow(26)\n",
    "    return key"
   ]
  },
  {
   "cell_type": "code",
   "execution_count": 33,
   "id": "cordless-device",
   "metadata": {},
   "outputs": [],
   "source": [
    "def encrypt(plaintext, key):\n",
    "\n",
    "\tciphertext = ''\n",
    "\t\n",
    "\tfor p in plaintext:\n",
    "\t\t\n",
    "\t\t# ord('a') = 97\n",
    "\t\tif p in string.ascii_lowercase:\n",
    "\t\t\tc = chr( ((ord(p) - 97 + key) % 26) + 97)\n",
    "\t\t# ord('A') = 65\n",
    "\t\telif p in string.ascii_uppercase:\n",
    "\t\t\tc = chr( ((ord(p) - 65 + key) % 26) + 65)\n",
    "\t\telse:\n",
    "\t\t\tc = p\n",
    "\t\t\n",
    "\t\tciphertext += c\n",
    "\t\t\n",
    "\treturn ciphertext"
   ]
  },
  {
   "cell_type": "code",
   "execution_count": 34,
   "id": "little-wages",
   "metadata": {},
   "outputs": [
    {
     "name": "stdout",
     "output_type": "stream",
     "text": [
      "esjnwddafy grgfw ksnagj'k ydaehkw tdwwv oayzl Ugflafwflsd'k Zgjfw\n"
     ]
    }
   ],
   "source": [
    "flag = new_flag()\n",
    "key = new_key()\n",
    "message = encrypt(flag, key)\n",
    "\n",
    "print(message)"
   ]
  },
  {
   "cell_type": "markdown",
   "id": "sorted-force",
   "metadata": {},
   "source": [
    "# brute force plaintext & key recovery"
   ]
  },
  {
   "cell_type": "code",
   "execution_count": 37,
   "id": "pointed-synthetic",
   "metadata": {},
   "outputs": [],
   "source": [
    "def decrypt(ciphertext, key):\n",
    "\n",
    "\treturn encrypt(ciphertext, -key)"
   ]
  },
  {
   "cell_type": "code",
   "execution_count": 39,
   "id": "nutritional-imaging",
   "metadata": {},
   "outputs": [
    {
     "name": "stdout",
     "output_type": "stream",
     "text": [
      "0: esjnwddafy grgfw ksnagj'k ydaehkw tdwwv oayzl Ugflafwflsd'k Zgjfw\n",
      "1: drimvcczex fqfev jrmzfi'j xczdgjv scvvu nzxyk Tfekzevekrc'j Yfiev\n",
      "2: cqhlubbydw epedu iqlyeh'i wbycfiu rbuut mywxj Sedjydudjqb'i Xehdu\n",
      "3: bpgktaaxcv dodct hpkxdg'h vaxbeht qatts lxvwi Rdcixctcipa'h Wdgct\n",
      "4: aofjszzwbu cncbs gojwcf'g uzwadgs pzssr kwuvh Qcbhwbsbhoz'g Vcfbs\n",
      "5: zneiryyvat bmbar fnivbe'f tyvzcfr oyrrq jvtug Pbagvaragny'f Ubear\n",
      "6: ymdhqxxuzs alazq emhuad'e sxuybeq nxqqp iustf Oazfuzqzfmx'e Tadzq\n",
      "7: xlcgpwwtyr zkzyp dlgtzc'd rwtxadp mwppo htrse Nzyetypyelw'd Szcyp\n",
      "8: wkbfovvsxq yjyxo ckfsyb'c qvswzco lvoon gsqrd Myxdsxoxdkv'c Rybxo\n",
      "9: vjaenuurwp xixwn bjerxa'b purvybn kunnm frpqc Lxwcrwnwcju'b Qxawn\n",
      "10: uizdmttqvo whwvm aidqwz'a otquxam jtmml eqopb Kwvbqvmvbit'a Pwzvm\n",
      "11: thyclsspun vgvul zhcpvy'z nsptwzl isllk dpnoa Jvuapuluahs'z Ovyul\n",
      "12: sgxbkrrotm ufutk ygboux'y mrosvyk hrkkj comnz Iutzotktzgr'y Nuxtk\n",
      "13: rfwajqqnsl tetsj xfantw'x lqnruxj gqjji bnlmy Htsynsjsyfq'x Mtwsj\n",
      "14: qevzippmrk sdsri wezmsv'w kpmqtwi fpiih amklx Gsrxmrirxep'w Lsvri\n",
      "15: pduyhoolqj rcrqh vdylru'v jolpsvh eohhg zljkw Frqwlqhqwdo'v Kruqh\n",
      "16: octxgnnkpi qbqpg ucxkqt'u inkorug dnggf ykijv Eqpvkpgpvcn'u Jqtpg\n",
      "17: nbswfmmjoh papof tbwjps't hmjnqtf cmffe xjhiu Dpoujofoubm't Ipsof\n",
      "18: marvelling ozone savior's glimpse bleed wight Continental's Horne\n",
      "19: lzqudkkhmf nynmd rzuhnq'r fkhlord akddc vhfgs Bnmshmdmszk'r Gnqmd\n",
      "20: kyptcjjgle mxmlc qytgmp'q ejgknqc zjccb ugefr Amlrglclryj'q Fmplc\n",
      "21: jxosbiifkd lwlkb pxsflo'p difjmpb yibba tfdeq Zlkqfkbkqxi'p Elokb\n",
      "22: iwnrahhejc kvkja owrekn'o cheiloa xhaaz secdp Ykjpejajpwh'o Dknja\n",
      "23: hvmqzggdib jujiz nvqdjm'n bgdhknz wgzzy rdbco Xjiodiziovg'n Cjmiz\n",
      "24: gulpyffcha itihy mupcil'm afcgjmy vfyyx qcabn Wihnchyhnuf'm Bilhy\n",
      "25: ftkoxeebgz hshgx ltobhk'l zebfilx uexxw pbzam Vhgmbgxgmte'l Ahkgx\n"
     ]
    }
   ],
   "source": [
    "for k in range(26):\n",
    "\tguess = decrypt(message, k)\n",
    "\tprint(f'{k}: {guess}')"
   ]
  }
 ],
 "metadata": {
  "kernelspec": {
   "display_name": "Python 3",
   "language": "python",
   "name": "python3"
  },
  "language_info": {
   "codemirror_mode": {
    "name": "ipython",
    "version": 3
   },
   "file_extension": ".py",
   "mimetype": "text/x-python",
   "name": "python",
   "nbconvert_exporter": "python",
   "pygments_lexer": "ipython3",
   "version": "3.8.5"
  }
 },
 "nbformat": 4,
 "nbformat_minor": 5
}
