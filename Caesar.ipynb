{
 "cells": [
  {
   "cell_type": "markdown",
   "id": "precise-timothy",
   "metadata": {},
   "source": [
    "# Useful tools\n",
    "Python [built-in fuctions](https://docs.python.org/3/library/functions.html):\n",
    "- _chr(i)_: return the string representing a character whose Unicode code point is the integer _i_.\n",
    "- _ord(s)_: return an integer representing the Unicode code point of the string character _s_.\n",
    "\n",
    "[string](https://docs.python.org/3/library/string.html) constants\n",
    "\n",
    "Modulo arithmetic: $a$ is congruent to $b$ modulo $n$\n",
    "$$ a \\equiv b \\pmod{n} $$\n",
    "if $$a=b+kn$$ for some $k$\n"
   ]
  },
  {
   "cell_type": "code",
   "execution_count": 3,
   "id": "sustainable-roulette",
   "metadata": {},
   "outputs": [
    {
     "name": "stdout",
     "output_type": "stream",
     "text": [
      "Lowercase letters: ABCDEFGHIJKLMNOPQRSTUVWXYZ\n",
      "97\n",
      "65\n",
      "42\n",
      "0.5714285714285714\n",
      "0\n",
      "4\n",
      "3 is equivalent to ...[-23, 3, 29, 55, 81]... modulo 26\n",
      "[3, 3, 3, 3, 3]\n"
     ]
    }
   ],
   "source": [
    "import string\n",
    "print(f'Lowercase letters: {string.ascii_uppercase}')\n",
    "print(ord('a'))\n",
    "print(ord('A'))\n",
    "print(ord(chr(42)))\n",
    "\n",
    "# python 3 division\n",
    "# float\n",
    "print(4/7)\n",
    "# floor\n",
    "print(4//7)\n",
    "# remainder\n",
    "print(4%7)\n",
    "\n",
    "c = []\n",
    "a = 3\n",
    "n = 26\n",
    "for k in range(-1,4):\n",
    "    c.append(a+k*n)\n",
    "    \n",
    "print(f'{a} is equivalent to ...{c}... modulo {n}')\n",
    "# double-check:\n",
    "print( [j %26 for j in c] )"
   ]
  },
  {
   "cell_type": "markdown",
   "id": "sublime-arrangement",
   "metadata": {},
   "source": [
    "---\n",
    "# Caesar cipher"
   ]
  },
  {
   "cell_type": "code",
   "execution_count": 5,
   "id": "textile-celebrity",
   "metadata": {},
   "outputs": [],
   "source": [
    "import secrets\n",
    "import string"
   ]
  },
  {
   "cell_type": "code",
   "execution_count": 6,
   "id": "remarkable-gibson",
   "metadata": {},
   "outputs": [],
   "source": [
    "def new_flag():\n",
    "    with open('/usr/share/dict/words') as w:\n",
    "\t\t\n",
    "        numWords = 8\n",
    "        words = [word.strip() for word in w]\n",
    "\n",
    "        flag = ' '.join(secrets.choice(words) for i in range(numWords))\n",
    "    return flag"
   ]
  },
  {
   "cell_type": "code",
   "execution_count": 7,
   "id": "forty-conditioning",
   "metadata": {},
   "outputs": [],
   "source": [
    "def new_key():\n",
    "    key = secrets.randbelow(26)\n",
    "    return key"
   ]
  },
  {
   "cell_type": "code",
   "execution_count": 8,
   "id": "cordless-device",
   "metadata": {},
   "outputs": [],
   "source": [
    "def encrypt(plaintext, key):\n",
    "\n",
    "\tciphertext = ''\n",
    "\t\n",
    "\tfor p in plaintext:\n",
    "\t\t\n",
    "\t\t# ord('a') = 97\n",
    "\t\tif p in string.ascii_lowercase:\n",
    "\t\t\tc = chr( ((ord(p) - 97 + key) % 26) + 97)\n",
    "\t\t# ord('A') = 65\n",
    "\t\telif p in string.ascii_uppercase:\n",
    "\t\t\tc = chr( ((ord(p) - 65 + key) % 26) + 65)\n",
    "\t\telse:\n",
    "\t\t\tc = p\n",
    "\t\t\n",
    "\t\tciphertext += c\n",
    "\t\t\n",
    "\treturn ciphertext"
   ]
  },
  {
   "cell_type": "code",
   "execution_count": 9,
   "id": "little-wages",
   "metadata": {},
   "outputs": [
    {
     "name": "stdout",
     "output_type": "stream",
     "text": [
      "xmieguf rdqqimke efdqzsftqzqp sadsq'e Bmzmeazuo eotqdla'e Rxqueotqd Gdmzge\n"
     ]
    }
   ],
   "source": [
    "flag = new_flag()\n",
    "key = new_key()\n",
    "message = encrypt(flag, key)\n",
    "\n",
    "print(message)"
   ]
  },
  {
   "cell_type": "markdown",
   "id": "sorted-force",
   "metadata": {},
   "source": [
    "# brute force plaintext & key recovery"
   ]
  },
  {
   "cell_type": "code",
   "execution_count": 10,
   "id": "pointed-synthetic",
   "metadata": {},
   "outputs": [],
   "source": [
    "def decrypt(ciphertext, key):\n",
    "\n",
    "\treturn encrypt(ciphertext, -key)"
   ]
  },
  {
   "cell_type": "code",
   "execution_count": 11,
   "id": "nutritional-imaging",
   "metadata": {},
   "outputs": [
    {
     "name": "stdout",
     "output_type": "stream",
     "text": [
      "0: xmieguf rdqqimke efdqzsftqzqp sadsq'e Bmzmeazuo eotqdla'e Rxqueotqd Gdmzge\n",
      "1: wlhdfte qcpphljd decpyrespypo rzcrp'd Alyldzytn dnspckz'd Qwptdnspc Fclyfd\n",
      "2: vkgcesd pboogkic cdboxqdroxon qybqo'c Zkxkcyxsm cmrobjy'c Pvoscmrob Ebkxec\n",
      "3: ujfbdrc oannfjhb bcanwpcqnwnm pxapn'b Yjwjbxwrl blqnaix'b Ounrblqna Dajwdb\n",
      "4: tieacqb nzmmeiga abzmvobpmvml owzom'a Xiviawvqk akpmzhw'a Ntmqakpmz Czivca\n",
      "5: shdzbpa mylldhfz zaylunaolulk nvynl'z Whuhzvupj zjolygv'z Mslpzjoly Byhubz\n",
      "6: rgcyaoz lxkkcgey yzxktmznktkj muxmk'y Vgtgyutoi yinkxfu'y Lrkoyinkx Axgtay\n",
      "7: qfbxzny kwjjbfdx xywjslymjsji ltwlj'x Ufsfxtsnh xhmjwet'x Kqjnxhmjw Zwfszx\n",
      "8: peawymx jviiaecw wxvirkxlirih ksvki'w Terewsrmg wglivds'w Jpimwgliv Yveryw\n",
      "9: odzvxlw iuhhzdbv vwuhqjwkhqhg jrujh'v Sdqdvrqlf vfkhucr'v Iohlvfkhu Xudqxv\n",
      "10: ncyuwkv htggycau uvtgpivjgpgf iqtig'u Rcpcuqpke uejgtbq'u Hngkuejgt Wtcpwu\n",
      "11: mbxtvju gsffxbzt tusfohuifofe hpshf't Qbobtpojd tdifsap't Gmfjtdifs Vsbovt\n",
      "12: lawsuit freeways strengthened gorge's Panasonic scherzo's Fleischer Uranus\n",
      "13: kzvrths eqddvzxr rsqdmfsgdmdc fnqfd'r Ozmzrnmhb rbgdqyn'r Ekdhrbgdq Tqzmtr\n",
      "14: jyuqsgr dpccuywq qrpclerfclcb empec'q Nylyqmlga qafcpxm'q Djcgqafcp Spylsq\n",
      "15: ixtprfq cobbtxvp pqobkdqebkba dlodb'p Mxkxplkfz pzebowl'p Cibfpzebo Roxkrp\n",
      "16: hwsoqep bnaaswuo opnajcpdajaz cknca'o Lwjwokjey oydanvk'o Bhaeoydan Qnwjqo\n",
      "17: gvrnpdo amzzrvtn nomziboczizy bjmbz'n Kvivnjidx nxczmuj'n Agzdnxczm Pmvipn\n",
      "18: fuqmocn zlyyqusm mnlyhanbyhyx ailay'm Juhumihcw mwbylti'm Zfycmwbyl Oluhom\n",
      "19: etplnbm ykxxptrl lmkxgzmaxgxw zhkzx'l Itgtlhgbv lvaxksh'l Yexblvaxk Nktgnl\n",
      "20: dsokmal xjwwosqk kljwfylzwfwv ygjyw'k Hsfskgfau kuzwjrg'k Xdwakuzwj Mjsfmk\n",
      "21: crnjlzk wivvnrpj jkivexkyvevu xfixv'j Grerjfezt jtyviqf'j Wcvzjtyvi Lirelj\n",
      "22: bqmikyj vhuumqoi ijhudwjxudut wehwu'i Fqdqiedys isxuhpe'i Vbuyisxuh Khqdki\n",
      "23: aplhjxi ugttlpnh higtcviwtcts vdgvt'h Epcphdcxr hrwtgod'h Uatxhrwtg Jgpcjh\n",
      "24: zokgiwh tfsskomg ghfsbuhvsbsr ucfus'g Dobogcbwq gqvsfnc'g Tzswgqvsf Ifobig\n",
      "25: ynjfhvg serrjnlf fgeratgurarq tbetr'f Cnanfbavp fpuremb'f Syrvfpure Henahf\n"
     ]
    }
   ],
   "source": [
    "for k in range(26):\n",
    "\tguess = decrypt(message, k)\n",
    "\tprint(f'{k}: {guess}')"
   ]
  },
  {
   "cell_type": "code",
   "execution_count": null,
   "id": "435c56bd",
   "metadata": {},
   "outputs": [],
   "source": []
  }
 ],
 "metadata": {
  "kernelspec": {
   "display_name": "Python 3",
   "language": "python",
   "name": "python3"
  },
  "language_info": {
   "codemirror_mode": {
    "name": "ipython",
    "version": 3
   },
   "file_extension": ".py",
   "mimetype": "text/x-python",
   "name": "python",
   "nbconvert_exporter": "python",
   "pygments_lexer": "ipython3",
   "version": "3.8.5"
  }
 },
 "nbformat": 4,
 "nbformat_minor": 5
}
